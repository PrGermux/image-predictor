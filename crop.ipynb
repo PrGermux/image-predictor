{
 "cells": [
  {
   "cell_type": "code",
   "execution_count": null,
   "metadata": {},
   "outputs": [],
   "source": [
    "import cv2\n",
    "import os\n",
    "import numpy as np\n",
    "\n",
    "def preprocess_image(image_path, output_path):\n",
    "    try:\n",
    "        img = cv2.imread(image_path, cv2.IMREAD_GRAYSCALE)\n",
    "        if img is None:\n",
    "            print(f\"Error: Could not read image {image_path}\")\n",
    "            return\n",
    "        \n",
    "        # Crop the bottom 70 pixels\n",
    "        cropped_img = img[:-70, :]  # Resulting in 1280x890\n",
    "        \n",
    "        # Calculate the starting points for the 890x890 crop from the center\n",
    "        start_x = (cropped_img.shape[1] - 890) // 2  # Horizontal start point\n",
    "        start_y = 0  # Vertical start point (since height is already 890)\n",
    "        \n",
    "        # Crop the middle 890x890 region\n",
    "        middle_cropped_img = cropped_img[start_y:start_y + 890, start_x:start_x + 890]\n",
    "        \n",
    "        # Min-max scaling to normalize the image to range 0-1\n",
    "        min_val = np.min(middle_cropped_img)\n",
    "        max_val = np.max(middle_cropped_img)\n",
    "        scaled_img = (middle_cropped_img - min_val) / (max_val - min_val)\n",
    "        \n",
    "        # Resize to 256x256\n",
    "        resized_img = cv2.resize(scaled_img, (256, 256))\n",
    "        \n",
    "        # Save the processed image, scaling back to 0-255 to store as an 8-bit image\n",
    "        cv2.imwrite(output_path, (resized_img * 255).astype(np.uint8))\n",
    "        print(f\"Processed and saved image: {output_path}\")\n",
    "    \n",
    "    except Exception as e:\n",
    "        print(f\"An error occurred while processing {image_path}: {e}\")\n",
    "\n",
    "# Assuming the Images folder is inside your project directory\n",
    "input_directory = 'Images/10kx'\n",
    "output_directory = 'ProcessedImages/10kx'\n",
    "\n",
    "# Create output directory if it does not exist\n",
    "os.makedirs(output_directory, exist_ok=True)\n",
    "\n",
    "for filename in os.listdir(input_directory):\n",
    "    if filename.endswith('.tif'):\n",
    "        input_path = os.path.join(input_directory, filename)\n",
    "        output_path = os.path.join(output_directory, filename)\n",
    "        preprocess_image(input_path, output_path)"
   ]
  }
 ],
 "metadata": {
  "kernelspec": {
   "display_name": "Python 3",
   "language": "python",
   "name": "python3"
  },
  "language_info": {
   "codemirror_mode": {
    "name": "ipython",
    "version": 3
   },
   "file_extension": ".py",
   "mimetype": "text/x-python",
   "name": "python",
   "nbconvert_exporter": "python",
   "pygments_lexer": "ipython3",
   "version": "3.12.2"
  }
 },
 "nbformat": 4,
 "nbformat_minor": 2
}
